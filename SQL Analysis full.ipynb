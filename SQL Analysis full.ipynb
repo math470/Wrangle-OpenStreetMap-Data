{
 "cells": [
  {
   "cell_type": "markdown",
   "metadata": {},
   "source": [
    "# SQL Analysis for OpenStreetMap Data"
   ]
  },
  {
   "cell_type": "markdown",
   "metadata": {
    "collapsed": true
   },
   "source": [
    "## Overview of the dataset"
   ]
  },
  {
   "cell_type": "markdown",
   "metadata": {},
   "source": [
    "### Checking tables in the dataset"
   ]
  },
  {
   "cell_type": "raw",
   "metadata": {},
   "source": [
    "sqlite> .tables\n",
    "nodes       nodes_tags  ways        ways_nodes  ways_tags\n",
    "\n",
    "sqlite> .schema\n",
    "CREATE TABLE nodes(\n",
    "    id INTEGER PRIMARY KEY NOT NULL,\n",
    "    lat REAL,\n",
    "    lon REAL,\n",
    "    user TEXT,\n",
    "    uid INTEGER,\n",
    "    version INTEGER,\n",
    "    changeset INTEGER,\n",
    "    timestamp TEXT);\n",
    "CREATE TABLE ways (\n",
    "    id INTEGER PRIMARY KEY NOT NULL,\n",
    "    user TEXT,\n",
    "    uid INTEGER,\n",
    "    version TEXT,\n",
    "    changeset INTEGER,\n",
    "    timestamp TEXT);\n",
    "CREATE TABLE nodes_tags(\n",
    "        id INTEGER,\n",
    "        key TEXT,\n",
    "        value TEXT,\n",
    "        type TEXT,\n",
    "        FOREIGN KEY (id) REFERENCES nodes(id));\n",
    "CREATE TABLE ways_tags(\n",
    "        id INTEGER NOT NULL,\n",
    "        key TEXT NOT NULL,\n",
    "        value TEXT NOT NULL,\n",
    "        type TEXT,\n",
    "        FOREIGN KEY (id) REFERENCES ways(id));\n",
    "CREATE TABLE ways_nodes(\n",
    "        id INTEGER NOT NULL,\n",
    "        node_id INTEGER NOT NULL,\n",
    "        position INTEGER NOT NULL,\n",
    "        FOREIGN KEY (id) REFERENCES ways(id),\n",
    "        FOREIGN KEY (node_id) REFERENCES nodes(id));\n",
    "\n",
    "sqlite> SELECT * FROM nodes LIMIT 5;\n",
    "27195852|45.5408932|-122.8675556|Grant Humphries|393906|11|7632877|2011-03-21T23:25:58Z\n",
    "27196027|45.5252803|-122.6617259|KindredCoda|14293|6|29718932|2015-03-25T03:22:33Z\n",
    "27196028|45.5253381|-122.6614312|Grant Humphries|393906|8|29866417|2015-03-31T02:01:36Z\n",
    "27196029|45.5255055|-122.6608381|KindredCoda|14293|6|29718932|2015-03-25T03:22:33Z\n",
    "27199858|45.530317|-122.8917403|Mele Sax-Barnett|362111|5|11079754|2012-03-23T23:52:58Z\n",
    "\n",
    "sqlite> SELECT * FROM nodes_tags LIMIT 5;\n",
    "27195852|highway|traffic_signals|regular\n",
    "27199958|highway|turning_circle|regular\n",
    "27266177|highway|traffic_signals|regular\n",
    "27266177|crossing|traffic_signals|regular\n",
    "27266267|highway|traffic_signals|regular\n",
    "\n",
    "sqlite> SELECT * FROM ways LIMIT 5;\n",
    "4440143|Brett_Ham|3735764|8|40073489|2016-06-16T18:15:45Z\n",
    "4440967|Peter Dobratz|81676|23|40122225|2016-06-18T19:28:36Z\n",
    "4441934|Peter Dobratz|81676|20|34401253|2015-10-03T04:14:50Z\n",
    "4443830|Brett_Ham|3735764|6|40073489|2016-06-16T18:15:43Z\n",
    "4443836|Brett_Ham|3735764|5|40073489|2016-06-16T18:15:46Z\n",
    "\n",
    "sqlite> SELECT * FROM ways_tags LIMIT 5;\n",
    "4440143|name|Northwest Hodes Drive|regular\n",
    "4440143|highway|residential|regular\n",
    "4440143|sidewalk|both|regular\n",
    "4440967|name|Northeast Butler Street|regular\n",
    "4440967|bicycle|designated|regular\n",
    "\n",
    "sqlite> SELECT * FROM ways_nodes LIMIT 5;\n",
    "4440143|38756004|0\n",
    "4440143|27203634|1\n",
    "4440143|29936590|2\n",
    "4440143|27286355|3\n",
    "4440143|29936591|4"
   ]
  },
  {
   "cell_type": "markdown",
   "metadata": {},
   "source": [
    "### Size of the database"
   ]
  },
  {
   "cell_type": "raw",
   "metadata": {},
   "source": [
    "sqlite> .dbinfo\n",
    "database page size:  1024\n",
    "write format:        1\n",
    "read format:         1\n",
    "reserved bytes:      0\n",
    "file change counter: 15\n",
    "database page count: 928804\n",
    "freelist page count: 0\n",
    "schema cookie:       9\n",
    "schema format:       4\n",
    "default cache size:  0\n",
    "autovacuum top root: 0\n",
    "incremental vacuum:  0\n",
    "text encoding:       1 (utf8)\n",
    "user version:        0\n",
    "application id:      0\n",
    "software version:    3008011\n",
    "number of tables:    5\n",
    "number of indexes:   0\n",
    "number of triggers:  0\n",
    "number of views:     0\n",
    "schema size:         870\n",
    "\n"
   ]
  },
  {
   "cell_type": "markdown",
   "metadata": {},
   "source": [
    "Size of the database is 928804 KB i.e. almost 1 GB (my OSM XML file was 1.54 GB)."
   ]
  },
  {
   "cell_type": "markdown",
   "metadata": {},
   "source": [
    "### Number of nodes and ways"
   ]
  },
  {
   "cell_type": "raw",
   "metadata": {},
   "source": [
    "sqlite> SELECT Count(id) FROM nodes;\n",
    "6577944\n",
    "sqlite> SELECT Count(id) FROM ways;\n",
    "850234"
   ]
  },
  {
   "cell_type": "markdown",
   "metadata": {},
   "source": [
    "There are 6577944 nodes and 850234 ways in total."
   ]
  },
  {
   "cell_type": "markdown",
   "metadata": {},
   "source": [
    "### Number of unique users for both nodes and ways and the top 10 users"
   ]
  },
  {
   "cell_type": "raw",
   "metadata": {},
   "source": [
    "SELECT COUNT(unique_users) \n",
    "FROM (SELECT nodes.uid as unique_users\n",
    "FROM nodes, ways\n",
    "ON nodes.uid = ways.uid\n",
    "Group by nodes.uid)\n",
    "as unique_users_count;"
   ]
  },
  {
   "cell_type": "markdown",
   "metadata": {},
   "source": [
    "This could not run the first code. I got an error saying \"database or disk is full\". "
   ]
  },
  {
   "cell_type": "raw",
   "metadata": {},
   "source": [
    "I ran this instead:\n",
    "\n",
    "SELECT COUNT(DISTINCT(uid))          \n",
    "FROM (SELECT uid FROM nodes UNION ALL SELECT uid FROM ways);\n",
    "\n",
    "SELECT user, COUNT(*) as num          \n",
    "FROM (SELECT user FROM nodes UNION ALL SELECT user FROM ways)\n",
    "GROUP BY user\n",
    "ORDER BY num DESC\n",
    "LIMIT 10;"
   ]
  },
  {
   "cell_type": "raw",
   "metadata": {},
   "source": [
    "sqlite> SELECT COUNT(DISTINCT(uid))\n",
    "   ...> FROM (SELECT uid FROM nodes UNION ALL SELECT uid FROM ways);\n",
    "1233\n",
    "\n",
    "sqlite> SELECT user, COUNT(*) as num\n",
    "   ...> FROM (SELECT user FROM nodes UNION ALL SELECT user FROM ways)\n",
    "   ...> GROUP BY user\n",
    "   ...> ORDER BY num DESC\n",
    "   ...> LIMIT 10;\n",
    "Peter Dobratz_pdxbuildings|1960041\n",
    "lyzidiamond_imports|1904820\n",
    "Mele Sax-Barnett|582424\n",
    "baradam|540940\n",
    "Darrell_pdxbuildings|433857\n",
    "Grant Humphries|305598\n",
    "cowdog|297332\n",
    "Peter Dobratz|274700\n",
    "justin_pdxbuildings|116754\n",
    "amillar-osm-import|109002"
   ]
  },
  {
   "cell_type": "markdown",
   "metadata": {},
   "source": [
    "The number of unique users is 1,233 and the top 10 users are listed above."
   ]
  },
  {
   "cell_type": "markdown",
   "metadata": {},
   "source": [
    "### Number of unique users for nodes and top 10 users"
   ]
  },
  {
   "cell_type": "raw",
   "metadata": {},
   "source": [
    "SELECT COUNT(unique_users)\n",
    "FROM (SELECT uid as unique_users\n",
    "FROM nodes\n",
    "Group by uid)\n",
    "as unique_users_count;\n",
    "\n",
    "(or you can run this instead:  SELECT COUNT(DISTINCT(uid)) FROM nodes;)\n",
    "\n",
    "SELECT user, COUNT(*) as num\n",
    "FROM nodes\n",
    "Group by uid\n",
    "Order by num DESC\n",
    "LIMIT 10;"
   ]
  },
  {
   "cell_type": "raw",
   "metadata": {},
   "source": [
    "sqlite> SELECT COUNT(unique_users)\n",
    "   ...> FROM (SELECT uid as unique_users\n",
    "   ...> FROM nodes\n",
    "   ...> Group by uid)\n",
    "   ...> as unique_users_count;\n",
    "1104\n",
    "\n",
    "sqlite> SELECT user, COUNT(*) as num\n",
    "   ...> FROM nodes\n",
    "   ...> Group by uid\n",
    "   ...> Order by num DESC\n",
    "   ...> LIMIT 10;\n",
    "Peter Dobratz_pdxbuildings|1746176\n",
    "lyzidiamond_imports|1657626\n",
    "Mele Sax-Barnett|568895\n",
    "baradam|499044\n",
    "Darrell_pdxbuildings|376005\n",
    "Grant Humphries|288284\n",
    "cowdog|269013\n",
    "Peter Dobratz|217149\n",
    "amillar-osm-import|108043\n",
    "justin_pdxbuildings|100877"
   ]
  },
  {
   "cell_type": "markdown",
   "metadata": {},
   "source": [
    "### Number of unique users for ways and top 10 users"
   ]
  },
  {
   "cell_type": "raw",
   "metadata": {},
   "source": [
    "SELECT COUNT(unique_users)\n",
    "FROM (SELECT uid as unique_users\n",
    "FROM ways\n",
    "Group by uid)\n",
    "as unique_users_count;\n",
    "\n",
    "(or you can run this instead: SELECT COUNT(DISTINCT(uid)) FROM ways;)\n",
    "\n",
    "SELECT user, COUNT(*) as num\n",
    "FROM ways\n",
    "Group by uid\n",
    "Order by num DESC\n",
    "LIMIT 10;\n",
    "\n"
   ]
  },
  {
   "cell_type": "raw",
   "metadata": {},
   "source": [
    "sqlite> SELECT COUNT(unique_users)\n",
    "   ...> FROM (SELECT uid as unique_users\n",
    "   ...> FROM ways\n",
    "   ...> Group by uid)\n",
    "   ...> as unique_users_count;\n",
    "846\n",
    "\n",
    "sqlite> SELECT user, COUNT(*) as num\n",
    "   ...> FROM ways\n",
    "   ...> Group by uid\n",
    "   ...> Order by num DESC\n",
    "   ...> LIMIT 10;\n",
    "lyzidiamond_imports|247194\n",
    "Peter Dobratz_pdxbuildings|213865\n",
    "Darrell_pdxbuildings|57852\n",
    "Peter Dobratz|57551\n",
    "baradam|41896\n",
    "Brett_Ham|39994\n",
    "cowdog|28319\n",
    "Ryan_Peterson|19909\n",
    "Grant Humphries|17314\n",
    "justin_pdxbuildings|15877"
   ]
  },
  {
   "cell_type": "markdown",
   "metadata": {},
   "source": [
    "Eight of the top ten users for nodes and ways are overlapping."
   ]
  },
  {
   "cell_type": "markdown",
   "metadata": {},
   "source": [
    "## Addidtional  Statistics"
   ]
  },
  {
   "cell_type": "markdown",
   "metadata": {},
   "source": [
    "### Top 30 keys for nodes_tags"
   ]
  },
  {
   "cell_type": "raw",
   "metadata": {},
   "source": [
    "SELECT key, COUNT(*) as num\n",
    "FROM nodes_tags\n",
    "GROUP BY key\n",
    "ORDER BY num DESC\n",
    "LIMIT 30;"
   ]
  },
  {
   "cell_type": "raw",
   "metadata": {},
   "source": [
    "sqlite> SELECT key, COUNT(*) as num\n",
    "   ...> FROM nodes_tags\n",
    "   ...> GROUP BY key\n",
    "   ...> ORDER BY num DESC\n",
    "   ...> LIMIT 30;\n",
    "highway|34959\n",
    "street|30413\n",
    "housenumber|30389\n",
    "city|30133\n",
    "postcode|30101\n",
    "name|11801\n",
    "amenity|10462\n",
    "source|8693\n",
    "natural|8645\n",
    "railway|5332\n",
    "power|5211\n",
    "traffic_calming|4569\n",
    "state|4428\n",
    "ref|3908\n",
    "crossing|3167\n",
    "barrier|3001\n",
    "public_transport|2875\n",
    "bus|2594\n",
    "capacity|2500\n",
    "bicycle_parking|2467\n",
    "type|2288\n",
    "website|2200\n",
    "emergency|2183\n",
    "ele|2055\n",
    "shop|1688\n",
    "feature_id|1672\n",
    "created|1625\n",
    "county_id|1498\n",
    "bench|1388\n",
    "shelter|1359"
   ]
  },
  {
   "cell_type": "markdown",
   "metadata": {},
   "source": [
    "The top 30 keys for nodes_tags are listed above. The interesting keys for nodes_tag to me are as followings: \n",
    "* city \n",
    "* amenity\n",
    "* power\n",
    "* public_transport\n",
    "* shop\n",
    "* natural\n",
    "* railway\n",
    "* bus\n",
    "* shelter\n",
    "\n",
    "I will look into these keys more closely."
   ]
  },
  {
   "cell_type": "markdown",
   "metadata": {},
   "source": [
    "### city"
   ]
  },
  {
   "cell_type": "raw",
   "metadata": {},
   "source": [
    "SELECT COUNT(DISTINCT(value))\n",
    "FROM nodes_tags\n",
    "WHERE key = 'city';\n",
    "\n",
    "SELECT value, COUNT(*) as num\n",
    "FROM nodes_tags\n",
    "WHERE key = 'city'\n",
    "GROUP BY value\n",
    "ORDER BY num DESC\n",
    "LIMIT 10;"
   ]
  },
  {
   "cell_type": "raw",
   "metadata": {},
   "source": [
    "sqlite> SELECT COUNT(DISTINCT(value))\n",
    "   ...> FROM nodes_tags\n",
    "   ...> WHERE key = 'city';\n",
    "64\n",
    "\n",
    "sqlite> SELECT value, COUNT(*) as num\n",
    "   ...> FROM nodes_tags\n",
    "   ...> WHERE key = 'city'\n",
    "   ...> GROUP BY value\n",
    "   ...> ORDER BY num DESC\n",
    "   ...> LIMIT 10;\n",
    "Portland|20127\n",
    "Hillsboro|1656\n",
    "Gresham|1592\n",
    "Beaverton|1041\n",
    "Tigard|587\n",
    "Oregon City|541\n",
    "Aloha|450\n",
    "Canby|412\n",
    "Milwaukie|411\n",
    "Tualatin|369"
   ]
  },
  {
   "cell_type": "markdown",
   "metadata": {},
   "source": [
    "There are 64 cities in this square map area. The top 10 cities are listed above. As expected, Portland is the most frequent city among the cities."
   ]
  },
  {
   "cell_type": "markdown",
   "metadata": {},
   "source": [
    "### amenity"
   ]
  },
  {
   "cell_type": "raw",
   "metadata": {},
   "source": [
    "SELECT COUNT(DISTINCT(value))\n",
    "FROM nodes_tags\n",
    "WHERE key = 'amenity';\n",
    "\n",
    "SELECT value, COUNT(*) as num\n",
    "FROM nodes_tags\n",
    "WHERE key = 'amenity'\n",
    "GROUP BY value\n",
    "ORDER BY num DESC\n",
    "LIMIT 10;"
   ]
  },
  {
   "cell_type": "raw",
   "metadata": {},
   "source": [
    "sqlite> SELECT COUNT(DISTINCT(value))\n",
    "   ...> FROM nodes_tags\n",
    "   ...> WHERE key = 'amenity';\n",
    "98\n",
    "sqlite> SELECT value, COUNT(*) as num\n",
    "   ...> FROM nodes_tags\n",
    "   ...> WHERE key = 'amenity'\n",
    "   ...> GROUP BY value\n",
    "   ...> ORDER BY num DESC\n",
    "   ...> LIMIT 10;\n",
    "bicycle_parking|2666\n",
    "bench|868\n",
    "waste_basket|805\n",
    "place_of_worship|781\n",
    "restaurant|666\n",
    "fast_food|560\n",
    "post_box|476\n",
    "cafe|386\n",
    "drinking_water|231\n",
    "recycling|215"
   ]
  },
  {
   "cell_type": "markdown",
   "metadata": {},
   "source": [
    "There were 98 kinds of amenities and The top 10 amenities are listed above. I will look into the following amenity values more closely.\n",
    "* bicycle_parking\n",
    "* cafe\n",
    "* recycling"
   ]
  },
  {
   "cell_type": "markdown",
   "metadata": {},
   "source": [
    "#### amenity:  bicycle_parking"
   ]
  },
  {
   "cell_type": "raw",
   "metadata": {},
   "source": [
    "SELECT value, COUNT(*) as num\n",
    "FROM nodes_tags\n",
    "WHERE key = 'bicycle_parking'\n",
    "GROUP BY value\n",
    "ORDER BY num DESC;\n",
    "\n",
    "SELECT COUNT(*)\n",
    "FROM nodes_tags\n",
    "WHERE key = 'bicycle_parking';\n",
    "\n",
    "SELECT value, COUNT(*)/2467. as num\n",
    "FROM nodes_tags\n",
    "WHERE key = 'bicycle_parking'\n",
    "GROUP BY value\n",
    "ORDER BY num DESC;"
   ]
  },
  {
   "cell_type": "raw",
   "metadata": {},
   "source": [
    "sqlite> SELECT value, COUNT(*) as num\n",
    "   ...> FROM nodes_tags\n",
    "   ...> WHERE key = 'bicycle_parking'\n",
    "   ...> GROUP BY value\n",
    "   ...> ORDER BY num DESC;\n",
    "stands|2339\n",
    "bollard|70\n",
    "rack|27\n",
    "wave|17\n",
    "wall_loops|7\n",
    "building|4\n",
    "anchors|2\n",
    "yes|1\n",
    "\n",
    "sqlite> SELECT COUNT(*)\n",
    "   ...> FROM nodes_tags\n",
    "   ...> WHERE key = 'bicycle_parking';\n",
    "2467\n",
    "\n",
    "sqlite> SELECT value, COUNT(*)/2467. as num\n",
    "   ...> FROM nodes_tags\n",
    "   ...> WHERE key = 'bicycle_parking'\n",
    "   ...> GROUP BY value\n",
    "   ...> ORDER BY num DESC;\n",
    "stands|0.948115119578435\n",
    "bollard|0.0283745439805432\n",
    "rack|0.0109444669639238\n",
    "wave|0.00689096068098906\n",
    "wall_loops|0.00283745439805432\n",
    "building|0.0016214025131739\n",
    "anchors|0.000810701256586948\n",
    "yes|0.000405350628293474"
   ]
  },
  {
   "cell_type": "markdown",
   "metadata": {},
   "source": [
    "The most frequent amenity value is 'bicycle_parking' and this is not surprising because Portland, Oregon is one of the most bike-friendly cities in U.S. Actually, 'bicycle_parking' was also used as a key for node_tags and it was the 20th most frequent key (see the section 'Top 20 keys for nodes_tags'). I found values for the key 'bicycle_parking' show types of bicycle parking from http://wiki.openstreetmap.org/wiki/Key:bicycle_parking. There are 7 types of bicycle parking, stands, bollard, rack, wave, wall_loops, building, and anchors in this map area (there was one incorrect value 'yes' for the bicycle_parking). The most of bicycle parkings have the stands type (94.8%)."
   ]
  },
  {
   "cell_type": "markdown",
   "metadata": {},
   "source": [
    "#### amenity:  bicycle_rental"
   ]
  },
  {
   "cell_type": "raw",
   "metadata": {},
   "source": [
    "SELECT COUNT(*)\n",
    "FROM nodes_tags\n",
    "WHERE key = 'amenity' and value = 'bicycle_rental';"
   ]
  },
  {
   "cell_type": "raw",
   "metadata": {},
   "source": [
    "sqlite> SELECT COUNT(*)\n",
    "   ...> FROM nodes_tags\n",
    "   ...> WHERE key = 'amenity' and value = 'bicycle_rental';\n",
    "50"
   ]
  },
  {
   "cell_type": "markdown",
   "metadata": {},
   "source": [
    "#### amenity:  cafe"
   ]
  },
  {
   "cell_type": "raw",
   "metadata": {},
   "source": [
    "SELECT nodes_tags.value, COUNT(*) as num \n",
    "FROM nodes_tags JOIN (SELECT DISTINCT(id) FROM nodes_tags WHERE value = 'cafe') cafe\n",
    "ON nodes_tags.id = cafe.id \n",
    "WHERE nodes_tags.key ='name'\n",
    "GROUP BY nodes_tags.value\n",
    "ORDER BY num DESC\n",
    "LIMIT 20;"
   ]
  },
  {
   "cell_type": "raw",
   "metadata": {},
   "source": [
    "sqlite> SELECT nodes_tags.value, COUNT(*) as num\n",
    "   ...> FROM nodes_tags JOIN (SELECT DISTINCT(id) FROM nodes_tags WHERE value = 'cafe') cafe\n",
    "   ...> ON nodes_tags.id = cafe.id\n",
    "   ...> WHERE nodes_tags.key ='name'\n",
    "   ...> GROUP BY nodes_tags.value\n",
    "   ...> ORDER BY num DESC\n",
    "   ...> LIMIT 20;\n",
    "Starbucks|129\n",
    "Peet's|7\n",
    "Black Rock|5\n",
    "Jamba Juice|5\n",
    "Peet's Coffee & Tea|5\n",
    "Dutch Bros.|4\n",
    "Peet's Coffee|3\n",
    "Brewed Awakenings|2\n",
    "Canteen|2\n",
    "Dutch Bros. Coffee|2\n",
    "Portland Roasting Coffee|2\n",
    "Starbucks Coffee|2\n",
    "Stumptown|2\n",
    "World Cup Coffee & Tea|2\n",
    "40 LBs Coffee Bar|1\n",
    "Albina Press|1\n",
    "Aly's Coop|1\n",
    "Anna's Chocolate Cafe|1\n",
    "Antonio's House of Coffee|1\n",
    "Ava Roasteria|1"
   ]
  },
  {
   "cell_type": "markdown",
   "metadata": {},
   "source": [
    "Portland, OR is also known for specialty coffee and I found 'cafe' is the 8th most frequent amenity value (386 nodes). The wiki page http://wiki.openstreetmap.org/wiki/Key:amenity expains how 'cafe' was defined and says \"typically, the focus is on coffee or tea\". Some of cafe nodes have another tag with key 'cuisine' and value 'coffee_shop', but many cafes including Starbucks are missing this tag. Therefore, I did not use 'coffee_shop' to make further restrictions.  As expected, Starbucks (value = 'starbucks' or 'Starbucks Coffee') is the most frequent cafe (33.9% of cafe nodes). The second most frequent cafe was Peet's (value = Peet's, Peet's Coffee & Tea, or Peet's Coffee). It seems there are many local cafes, but I need to compare these findings to other cities to make any rigorous conclusions."
   ]
  },
  {
   "cell_type": "code",
   "execution_count": 20,
   "metadata": {
    "collapsed": false
   },
   "outputs": [
    {
     "data": {
      "text/plain": [
       "0.3393782383419689"
      ]
     },
     "execution_count": 20,
     "metadata": {},
     "output_type": "execute_result"
    }
   ],
   "source": [
    "(129+2)/386.  # number of 'starbucks' or 'Starbucks Coffee' divided by the nunber of cafes."
   ]
  },
  {
   "cell_type": "markdown",
   "metadata": {},
   "source": [
    "#### amenity: recycling"
   ]
  },
  {
   "cell_type": "markdown",
   "metadata": {},
   "source": [
    "I was glad to find 'recycling' is the 10th frequent amenity in nodes_tags, so I decided to investigate recycling a little more. The original XML looks like the following where 'recycing' is the value for the key 'amenity'. "
   ]
  },
  {
   "cell_type": "raw",
   "metadata": {},
   "source": [
    "\t\t<tag k=\"amenity\" v=\"recycling\" />\n",
    "\t\t<tag k=\"recycling:cans\" v=\"yes\" />\n",
    "\t\t<tag k=\"recycling_type\" v=\"container\" />\n",
    "\t\t<tag k=\"recycling:plastic_bottles\" v=\"yes\" />"
   ]
  },
  {
   "cell_type": "raw",
   "metadata": {},
   "source": [
    "SELECT nodes_tags.key,nodes_tags.value\n",
    "FROM nodes_tags JOIN (SELECT DISTINCT(id) FROM nodes_tags WHERE value = 'recycling') recycle\n",
    "ON nodes_tags.id = recycle.id \n",
    "WHERE nodes_tags.type = 'recycling' and nodes_tags.value != 'yes';"
   ]
  },
  {
   "cell_type": "raw",
   "metadata": {},
   "source": [
    "sqlite> SELECT nodes_tags.key,nodes_tags.value\n",
    "   ...> FROM nodes_tags JOIN (SELECT DISTINCT(id) FROM nodes_tags WHERE value = 'recycling') recycle\n",
    "   ...> ON nodes_tags.id = recycle.id\n",
    "   ...> WHERE nodes_tags.type = 'recycling' and nodes_tags.value != 'yes';\n",
    "paper|no\n",
    "clothes|no\n",
    "paper|no\n",
    "clothes|no"
   ]
  },
  {
   "cell_type": "markdown",
   "metadata": {},
   "source": [
    "most of them are 'yes'"
   ]
  },
  {
   "cell_type": "raw",
   "metadata": {},
   "source": [
    "SELECT nodes_tags.key, count(*) as num\n",
    "FROM nodes_tags JOIN (SELECT DISTINCT(id) FROM nodes_tags WHERE value = 'recycling') recycle\n",
    "ON nodes_tags.id = recycle.id \n",
    "WHERE nodes_tags.type = 'recycling' and nodes_tags.value = 'yes'\n",
    "GROUP BY nodes_tags.key\n",
    "ORDER BY num DESC;"
   ]
  },
  {
   "cell_type": "raw",
   "metadata": {},
   "source": [
    "sqlite> SELECT nodes_tags.key, count(*) as num\n",
    "   ...> FROM nodes_tags JOIN (SELECT DISTINCT(id) FROM nodes_tags WHERE value = 'recycling') recycle\n",
    "   ...> ON nodes_tags.id = recycle.id\n",
    "   ...> WHERE nodes_tags.type = 'recycling' and nodes_tags.value = 'yes'\n",
    "   ...> GROUP BY nodes_tags.key\n",
    "   ...> ORDER BY num DESC;\n",
    "plastic_bottles|158\n",
    "cans|145\n",
    "paper|111\n",
    "glass_bottles|88\n",
    "clothes|25\n",
    "glass|23\n",
    "shoes|5\n",
    "plastic|2\n",
    "aluminium|1\n",
    "books|1\n",
    "cardboard|1\n",
    "cooking_oil|1\n",
    "eyeglasses|1\n",
    "paper_bags|1\n",
    "plastic_packaging|1\n",
    "scrap_metal|1"
   ]
  },
  {
   "cell_type": "markdown",
   "metadata": {},
   "source": [
    "The query showed possible types of recycling each with the number of nodes. I can even recycle eyeglasses? Where?"
   ]
  },
  {
   "cell_type": "raw",
   "metadata": {},
   "source": [
    "SELECT *\n",
    "FROM nodes_tags JOIN (SELECT DISTINCT(id) FROM nodes_tags WHERE key='eyeglasses') eye\n",
    "ON nodes_tags.id = eye.id;"
   ]
  },
  {
   "cell_type": "raw",
   "metadata": {},
   "source": [
    "sqlite> SELECT *\n",
    "   ...> FROM nodes_tags JOIN (SELECT DISTINCT(id) FROM nodes_tags WHERE key='eyeglasses') eye\n",
    "   ...> ON nodes_tags.id = eye.id;\n",
    "4057712379|amenity|recycling|regular|4057712379\n",
    "4057712379|website|http://www.lionsclubs.org/|regular|4057712379\n",
    "4057712379|operator|Lions|regular|4057712379\n",
    "4057712379|recycling_type|container|regular|4057712379\n",
    "4057712379|eyeglasses|yes|recycling|4057712379"
   ]
  },
  {
   "cell_type": "markdown",
   "metadata": {},
   "source": [
    "### power"
   ]
  },
  {
   "cell_type": "raw",
   "metadata": {},
   "source": [
    "SELECT COUNT(DISTINCT(value))\n",
    "FROM nodes_tags\n",
    "WHERE key = 'power';\n",
    "\n",
    "SELECT value, COUNT(*) as num\n",
    "FROM nodes_tags\n",
    "WHERE key = 'power'\n",
    "GROUP BY value\n",
    "ORDER BY num DESC;"
   ]
  },
  {
   "cell_type": "raw",
   "metadata": {},
   "source": [
    "sqlite> SELECT COUNT(DISTINCT(value))\n",
    "   ...> FROM nodes_tags\n",
    "   ...> WHERE key = 'power';\n",
    "9\n",
    "sqlite> SELECT value, COUNT(*) as num\n",
    "   ...> FROM nodes_tags\n",
    "   ...> WHERE key = 'power'\n",
    "   ...> GROUP BY value\n",
    "   ...> ORDER BY num DESC;\n",
    "tower|3680\n",
    "pole|1437\n",
    "switch|46\n",
    "transformer|20\n",
    "portal|17\n",
    "generator|6\n",
    "station|3\n",
    "capacitor_bank|1\n",
    "tap|1"
   ]
  },
  {
   "cell_type": "markdown",
   "metadata": {},
   "source": [
    "not very interesting. PASS"
   ]
  },
  {
   "cell_type": "markdown",
   "metadata": {},
   "source": [
    "### public_transport"
   ]
  },
  {
   "cell_type": "raw",
   "metadata": {},
   "source": [
    "SELECT COUNT(DISTINCT(value))\n",
    "FROM nodes_tags\n",
    "WHERE key = 'public_transport';\n",
    "\n",
    "SELECT value, COUNT(*) as num\n",
    "FROM nodes_tags\n",
    "WHERE key = 'public_transport'\n",
    "GROUP BY value\n",
    "ORDER BY num DESC;"
   ]
  },
  {
   "cell_type": "raw",
   "metadata": {},
   "source": [
    "sqlite> SELECT COUNT(DISTINCT(value))\n",
    "   ...> FROM nodes_tags\n",
    "   ...> WHERE key = 'public_transport';\n",
    "3\n",
    "sqlite> SELECT value, COUNT(*) as num\n",
    "   ...> FROM nodes_tags\n",
    "   ...> WHERE key = 'public_transport'\n",
    "   ...> GROUP BY value\n",
    "   ...> ORDER BY num DESC;\n",
    "platform|2606\n",
    "stop_position|268\n",
    "station|1"
   ]
  },
  {
   "cell_type": "markdown",
   "metadata": {},
   "source": [
    "not interesting. Pass"
   ]
  },
  {
   "cell_type": "markdown",
   "metadata": {},
   "source": [
    "### bus"
   ]
  },
  {
   "cell_type": "raw",
   "metadata": {},
   "source": [
    "SELECT COUNT(DISTINCT(value))\n",
    "FROM nodes_tags\n",
    "WHERE key = 'bus';\n",
    "\n",
    "SELECT value, COUNT(*) as num\n",
    "FROM nodes_tags\n",
    "WHERE key = 'bus'\n",
    "GROUP BY value\n",
    "ORDER BY num DESC;"
   ]
  },
  {
   "cell_type": "raw",
   "metadata": {},
   "source": [
    "sqlite> SELECT COUNT(DISTINCT(value))\n",
    "   ...> FROM nodes_tags\n",
    "   ...> WHERE key = 'bus';\n",
    "1\n",
    "sqlite>\n",
    "sqlite> SELECT value, COUNT(*) as num\n",
    "   ...> FROM nodes_tags\n",
    "   ...> WHERE key = 'bus'\n",
    "   ...> GROUP BY value\n",
    "   ...> ORDER BY num DESC;\n",
    "yes|2594"
   ]
  },
  {
   "cell_type": "markdown",
   "metadata": {},
   "source": [
    "not interesting. Pass"
   ]
  },
  {
   "cell_type": "markdown",
   "metadata": {},
   "source": [
    "### railway"
   ]
  },
  {
   "cell_type": "raw",
   "metadata": {},
   "source": [
    "SELECT COUNT(DISTINCT(value))\n",
    "FROM nodes_tags\n",
    "WHERE key = 'railway';\n",
    "\n",
    "SELECT value, COUNT(*) as num\n",
    "FROM nodes_tags\n",
    "WHERE key = 'railway'\n",
    "GROUP BY value\n",
    "ORDER BY num DESC;"
   ]
  },
  {
   "cell_type": "raw",
   "metadata": {},
   "source": [
    "sqlite> SELECT COUNT(DISTINCT(value))\n",
    "   ...> FROM nodes_tags\n",
    "   ...> WHERE key = 'railway';\n",
    "13\n",
    "sqlite>\n",
    "sqlite> SELECT value, COUNT(*) as num\n",
    "   ...> FROM nodes_tags\n",
    "   ...> WHERE key = 'railway'\n",
    "   ...> GROUP BY value\n",
    "   ...> ORDER BY num DESC;\n",
    "level_crossing|2207\n",
    "switch|1444\n",
    "crossing|1284\n",
    "tram_stop|257\n",
    "signal|68\n",
    "buffer_stop|51\n",
    "station|9\n",
    "milestone|4\n",
    "railway_crossing|4\n",
    "derail|1\n",
    "stop|1\n",
    "turntable|1\n",
    "yes|1"
   ]
  },
  {
   "cell_type": "markdown",
   "metadata": {},
   "source": [
    "not interesting. Pass"
   ]
  },
  {
   "cell_type": "markdown",
   "metadata": {},
   "source": [
    "### tourism"
   ]
  },
  {
   "cell_type": "raw",
   "metadata": {},
   "source": [
    "SELECT COUNT(DISTINCT(value))\n",
    "FROM nodes_tags\n",
    "WHERE key = 'tourism';\n",
    "\n",
    "SELECT value, COUNT(*) as num\n",
    "FROM nodes_tags\n",
    "WHERE key = 'tourism'\n",
    "GROUP BY value\n",
    "ORDER BY num DESC;"
   ]
  },
  {
   "cell_type": "raw",
   "metadata": {},
   "source": [
    "sqlite> SELECT COUNT(DISTINCT(value))\n",
    "   ...> FROM nodes_tags\n",
    "   ...> WHERE key = 'tourism';\n",
    "14\n",
    "sqlite>\n",
    "sqlite> SELECT value, COUNT(*) as num\n",
    "   ...> FROM nodes_tags\n",
    "   ...> WHERE key = 'tourism'\n",
    "   ...> GROUP BY value\n",
    "   ...> ORDER BY num DESC;\n",
    "artwork|233\n",
    "information|160\n",
    "picnic_site|127\n",
    "viewpoint|53\n",
    "hotel|23\n",
    "attraction|20\n",
    "camp_site|13\n",
    "motel|13\n",
    "museum|12\n",
    "guest_house|5\n",
    "caravan_site|3\n",
    "gallery|2\n",
    "hostel|2\n",
    "squat|1"
   ]
  },
  {
   "cell_type": "markdown",
   "metadata": {},
   "source": [
    "### natural"
   ]
  },
  {
   "cell_type": "raw",
   "metadata": {},
   "source": [
    "SELECT COUNT(DISTINCT(value))\n",
    "FROM nodes_tags\n",
    "WHERE key = 'natural';\n",
    "\n",
    "SELECT value, COUNT(*) as num\n",
    "FROM nodes_tags\n",
    "WHERE key = 'natural'\n",
    "GROUP BY value\n",
    "ORDER BY num DESC;"
   ]
  },
  {
   "cell_type": "raw",
   "metadata": {},
   "source": [
    "sqlite> SELECT COUNT(DISTINCT(value))\n",
    "   ...> FROM nodes_tags\n",
    "   ...> WHERE key = 'natural';\n",
    "10\n",
    "sqlite>\n",
    "sqlite> SELECT value, COUNT(*) as num\n",
    "   ...> FROM nodes_tags\n",
    "   ...> WHERE key = 'natural'\n",
    "   ...> GROUP BY value\n",
    "   ...> ORDER BY num DESC;\n",
    "tree|8438\n",
    "peak|123\n",
    "spring|55\n",
    "bay|9\n",
    "cliff|6\n",
    "waterfall|6\n",
    "beach|3\n",
    "water|2\n",
    "wetland|2\n",
    "saddle|1"
   ]
  },
  {
   "cell_type": "markdown",
   "metadata": {},
   "source": [
    "### shop"
   ]
  },
  {
   "cell_type": "raw",
   "metadata": {},
   "source": [
    "SELECT COUNT(DISTINCT(value))\n",
    "FROM nodes_tags\n",
    "WHERE key = 'shop';\n",
    "\n",
    "SELECT value, COUNT(*) as num\n",
    "FROM nodes_tags\n",
    "WHERE key = 'shop'\n",
    "GROUP BY value\n",
    "ORDER BY num DESC;"
   ]
  },
  {
   "cell_type": "raw",
   "metadata": {},
   "source": [
    "sqlite> SELECT COUNT(DISTINCT(value))\n",
    "   ...> FROM nodes_tags\n",
    "   ...> WHERE key = 'shop';\n",
    "127\n",
    "sqlite>\n",
    "sqlite> SELECT value, COUNT(*) as num\n",
    "   ...> FROM nodes_tags\n",
    "   ...> WHERE key = 'shop'\n",
    "   ...> GROUP BY value\n",
    "   ...> ORDER BY num DESC\n",
    "   ...> LIMIT 20;\n",
    "convenience|193\n",
    "clothes|148\n",
    "hairdresser|141\n",
    "beauty|110\n",
    "car_repair|62\n",
    "mobile_phone|56\n",
    "supermarket|52\n",
    "optician|39\n",
    "pet|35\n",
    "hardware|34\n",
    "bakery|32\n",
    "gift|28\n",
    "shoes|28\n",
    "jewelry|27\n",
    "laundry|23\n",
    "second_hand|23\n",
    "bicycle|22\n",
    "alcohol|21\n",
    "bed|21\n",
    "toys|20"
   ]
  },
  {
   "cell_type": "markdown",
   "metadata": {},
   "source": [
    "127 kinds of shops\n",
    "Investigate shop further"
   ]
  },
  {
   "cell_type": "markdown",
   "metadata": {},
   "source": [
    "#### shop: convenience"
   ]
  },
  {
   "cell_type": "raw",
   "metadata": {},
   "source": [
    "SELECT nodes_tags.value, COUNT(*) as num \n",
    "FROM nodes_tags JOIN (SELECT DISTINCT(id) FROM nodes_tags WHERE value = 'convenience') convenience\n",
    "ON nodes_tags.id = convenience.id \n",
    "WHERE nodes_tags.key ='name'\n",
    "GROUP BY nodes_tags.value\n",
    "ORDER BY num DESC\n",
    "LIMIT 20;"
   ]
  },
  {
   "cell_type": "raw",
   "metadata": {},
   "source": [
    "sqlite> SELECT nodes_tags.value, COUNT(*) as num\n",
    "   ...> FROM nodes_tags JOIN (SELECT DISTINCT(id) FROM nodes_tags WHERE value = 'convenience') convenience\n",
    "   ...> ON nodes_tags.id = convenience.id\n",
    "   ...> WHERE nodes_tags.key ='name'\n",
    "   ...> GROUP BY nodes_tags.value\n",
    "   ...> ORDER BY num DESC\n",
    "   ...> LIMIT 20;\n",
    "7-Eleven|24\n",
    "Plaid Pantry|21\n",
    "Food Mart|8\n",
    "Your Northwest Travel Mart|4\n",
    "711|3\n",
    "The Market|2\n",
    "50th Market|1\n",
    "52nd Avenue Market|1\n",
    "7 Eleven|1\n",
    "7 Market|1\n",
    "7-11|1\n",
    "7/11|1\n",
    "88 Market|1\n",
    "AM/PM|1\n",
    "ARCO AM/PM|1\n",
    "Abarrotes Panaderia y Carneceria|1\n",
    "Alex's Philipino Store|1\n",
    "Andy's Food Basket|1\n",
    "Baseline Mart|1\n",
    "Best Food Mart|1"
   ]
  },
  {
   "cell_type": "markdown",
   "metadata": {},
   "source": [
    "#### shop: clothes"
   ]
  },
  {
   "cell_type": "raw",
   "metadata": {},
   "source": [
    "SELECT nodes_tags.value, COUNT(*) as num \n",
    "FROM nodes_tags JOIN (SELECT DISTINCT(id) FROM nodes_tags WHERE value = 'clothes') clothes\n",
    "ON nodes_tags.id = clothes.id \n",
    "WHERE nodes_tags.key ='name'\n",
    "GROUP BY nodes_tags.value\n",
    "ORDER BY num DESC\n",
    "LIMIT 20;"
   ]
  },
  {
   "cell_type": "raw",
   "metadata": {},
   "source": [
    "sqlite> SELECT nodes_tags.value, COUNT(*) as num\n",
    "   ...> FROM nodes_tags JOIN (SELECT DISTINCT(id) FROM nodes_tags WHERE value = 'clothes') clothes\n",
    "   ...> ON nodes_tags.id = clothes.id\n",
    "   ...> WHERE nodes_tags.key ='name'\n",
    "   ...> GROUP BY nodes_tags.value\n",
    "   ...> ORDER BY num DESC\n",
    "   ...> LIMIT 10;\n",
    "Old Navy|3\n",
    "Ross|3\n",
    "Dress Barn|2\n",
    "Forever 21|2\n",
    "Fuego|2\n",
    "Gen X|2\n",
    "H&M|2\n",
    "Justice|2\n",
    "Loft|2\n",
    "Macy's|2"
   ]
  },
  {
   "cell_type": "markdown",
   "metadata": {},
   "source": [
    "#### shop: hairdresser"
   ]
  },
  {
   "cell_type": "raw",
   "metadata": {},
   "source": [
    "SELECT nodes_tags.value, COUNT(*) as num \n",
    "FROM nodes_tags JOIN (SELECT DISTINCT(id) FROM nodes_tags WHERE value = 'hairdresser') hairdresser\n",
    "ON nodes_tags.id = hairdresser.id \n",
    "WHERE nodes_tags.key ='name'\n",
    "GROUP BY nodes_tags.value\n",
    "ORDER BY num DESC\n",
    "LIMIT 10;"
   ]
  },
  {
   "cell_type": "raw",
   "metadata": {},
   "source": [
    "sqlite> SELECT nodes_tags.value, COUNT(*) as num\n",
    "   ...> FROM nodes_tags JOIN (SELECT DISTINCT(id) FROM nodes_tags WHERE value = 'hairdresser') hairdresser\n",
    "   ...> ON nodes_tags.id = hairdresser.id\n",
    "   ...> WHERE nodes_tags.key ='name'\n",
    "   ...> GROUP BY nodes_tags.value\n",
    "   ...> ORDER BY num DESC\n",
    "   ...> LIMIT 10;\n",
    "Great Clips|14\n",
    "The Barbers|11\n",
    "Perfect Look|8\n",
    "Supercuts|8\n",
    "Bishops Barbershop|3\n",
    "Sport Clips|3\n",
    "Chop Shop|2\n",
    "220 Salon|1\n",
    "77 Salon|1\n",
    "A Master Barber|1"
   ]
  },
  {
   "cell_type": "markdown",
   "metadata": {},
   "source": [
    "#### shop: supermarket"
   ]
  },
  {
   "cell_type": "raw",
   "metadata": {},
   "source": [
    "SELECT nodes_tags.value, COUNT(*) as num \n",
    "FROM nodes_tags JOIN (SELECT DISTINCT(id) FROM nodes_tags WHERE value = 'supermarket') supermarket\n",
    "ON nodes_tags.id = supermarket.id \n",
    "WHERE nodes_tags.key ='name'\n",
    "GROUP BY nodes_tags.value\n",
    "ORDER BY num DESC\n",
    "LIMIT 10;"
   ]
  },
  {
   "cell_type": "raw",
   "metadata": {},
   "source": [
    "sqlite> SELECT nodes_tags.value, COUNT(*) as num\n",
    "   ...> FROM nodes_tags JOIN (SELECT DISTINCT(id) FROM nodes_tags WHERE value = 'supermarket') supermarket\n",
    "   ...> ON nodes_tags.id = supermarket.id\n",
    "   ...> WHERE nodes_tags.key ='name'\n",
    "   ...> GROUP BY nodes_tags.value\n",
    "   ...> ORDER BY num DESC\n",
    "   ...> LIMIT 10;\n",
    "Grocery Outlet|5\n",
    "Safeway|5\n",
    "Albertsons|3\n",
    "Fred Meyer|3\n",
    "Whole Foods|3\n",
    "Green Zebra|2\n",
    "New Seasons Market|2\n",
    "Zupan's|2\n",
    "Albertson's|1\n",
    "Bi-mart|1"
   ]
  },
  {
   "cell_type": "markdown",
   "metadata": {},
   "source": [
    "#### Wait a minute! Why there are only 5 Safeway stores? Probably ther are more, but in different fileds."
   ]
  },
  {
   "cell_type": "raw",
   "metadata": {},
   "source": [
    "SELECT COUNT(DISTINCT(id))\n",
    "FROM nodes_tags \n",
    "WHERE value ='Safeway';"
   ]
  },
  {
   "cell_type": "raw",
   "metadata": {},
   "source": [
    "sqlite> SELECT COUNT(DISTINCT(id))\n",
    "   ...> FROM nodes_tags\n",
    "   ...> WHERE value ='Safeway';\n",
    "41"
   ]
  },
  {
   "cell_type": "raw",
   "metadata": {},
   "source": [
    "SELECT *\n",
    "FROM nodes_tags JOIN (SELECT DISTINCT(id) FROM nodes_tags WHERE value = 'Safeway') Safeway\n",
    "ON nodes_tags.id = Safeway.id;"
   ]
  },
  {
   "cell_type": "raw",
   "metadata": {},
   "source": [
    "sqlite> SELECT *\n",
    "   ...> FROM nodes_tags JOIN (SELECT DISTINCT(id) FROM nodes_tags WHERE value = 'Safeway') Safeway\n",
    "   ...> ON nodes_tags.id = Safeway.id;\n",
    "   \n",
    "408573572|name|Safeway|regular|408573572\n",
    "408573572|shop|supermarket|regular|408573572\n",
    "408573572|city|Wilsonville|addr|408573572\n",
    "408573572|street|Southwest Wilsonville Road|addr|408573572\n",
    "408573572|housenumber|8255|addr|408573572\n",
    "\n",
    "848315374|name|Safeway|regular|848315374\n",
    "848315374|shop|supermarket|regular|848315374\n",
    "\n",
    "1339186953|name|Safeway|regular|1339186953\n",
    "1339186953|shop|supermarket|regular|1339186953\n",
    "1339186953|street|Southwest Teal Boulevard|addr|1339186953\n",
    "1339186953|housenumber|14555|addr|1339186953\n",
    "\n",
    "1598669832|access|customers|regular|1598669832\n",
    "1598669832|amenity|parking_entrance|regular|1598669832\n",
    "1598669832|parking|multi-storey|regular|1598669832\n",
    "1598669832|operator|Safeway|regular|1598669832\n",
    "\n",
    "1974397122|amenity|fuel|regular|1974397122\n",
    "1974397122|operator|Safeway|regular|1974397122\n",
    "\n",
    "2156870714|name|Safeway|regular|2156870714\n",
    "2156870714|amenity|fuel|regular|2156870714\n",
    "...\n",
    "\n",
    "4033539950|amenity|recycling|regular|4033539950\n",
    "4033539950|operator|Safeway|regular|4033539950\n",
    "4033539950|cans|yes|recycling|4033539950\n",
    "4033539950|recycling_type|centre|regular|4033539950\n",
    "4033539950|glass_bottles|yes|recycling|4033539950\n",
    "4033539950|plastic_bottles|yes|recycling|4033539950\n",
    "\n",
    "...\n",
    "\n",
    "4080982191|city|Portland|addr|4080982191\n",
    "4080982191|housenumber|2800|addr|4080982191\n",
    "4080982191|postcode|97214|addr|4080982191\n",
    "4080982191|state|OR|addr|4080982191\n",
    "4080982191|street|Southeast Hawthorne Boulevard|addr|4080982191\n",
    "4080982191|amenity|pharmacy|regular|4080982191\n",
    "4080982191|dispensing|yes|regular|4080982191\n",
    "4080982191|name|Safeway|regular|4080982191\n",
    "4080982191|opening_hours|Mo-Fr 09:00-21:00; Sa 09:00-18:00; Su 10:00-18:00|regular|4080982191\n",
    "4080982191|phone|+1-503-232-3930|regular|4080982191\n",
    "4080982191|website|http://www.safeway.com/|regular|4080982191\n",
    "4080982191|wikipedia|en:Safeway Inc.|regular|4080982191\n",
    "\n",
    "..."
   ]
  },
  {
   "cell_type": "raw",
   "metadata": {},
   "source": [
    "I noticed Safeways are tagged 41 times in several different ways as followings:\n",
    "\n",
    "* amenity|pharmacy\n",
    "* amenity|recycling\n",
    "* amenity|fuel\n",
    "* amenity|parking_entrance\n",
    "* shop|supermarket\n",
    "\n",
    "Some of these 41 nodes might be indicating one Safeway location with different tags since one Safeway location can have many functions such as a gas station, a pharmacy, and a supermarket. However, it seems there are definitely more than 5 Safeway stores in this area. Many of the nodes were categorized as the value 'pharmacy' of the key 'amenity'. I checked how many Safeway nodes were tagged with value 'pharmacy' of the key 'amenity' below and I checked other pharmacies as well."
   ]
  },
  {
   "cell_type": "raw",
   "metadata": {},
   "source": [
    "SELECT nodes_tags.value, count(*) as num\n",
    "FROM nodes_tags JOIN (SELECT DISTINCT(id) FROM nodes_tags WHERE value = 'pharmacy') pharmacy\n",
    "ON nodes_tags.id = pharmacy.id \n",
    "WHERE nodes_tags.key = 'name' \n",
    "GROUP BY nodes_tags.value\n",
    "ORDER BY num DESC;"
   ]
  },
  {
   "cell_type": "raw",
   "metadata": {},
   "source": [
    "sqlite> SELECT nodes_tags.value, count(*) as num\n",
    "   ...> FROM nodes_tags JOIN (SELECT DISTINCT(id) FROM nodes_tags WHERE value = 'pharmacy') pharmacy\n",
    "   ...> ON nodes_tags.id = pharmacy.id\n",
    "   ...> WHERE nodes_tags.key = 'name'\n",
    "   ...> GROUP BY nodes_tags.value\n",
    "   ...> ORDER BY num DESC LIMIT 10;\n",
    "Walgreens|29\n",
    "Safeway|27\n",
    "Rite Aid|15\n",
    "Fred Meyer|12\n",
    "CVS|9\n",
    "Bi-Mart|4\n",
    "Costco|4\n",
    "Sav-on|4\n",
    "Walmart Pharmacy|2\n",
    "Banks Pharmacy|1"
   ]
  },
  {
   "cell_type": "markdown",
   "metadata": {},
   "source": [
    "I found there are 27 Safeway and 12 Fred Meyer pharmacies (we only found 3 Fred Meyer nodes using 'supermarket' above). At first, I thought they were tagged in this way by a mistake and should be categorized more systematically. However, I found a market is not called a supermarket conventionally if there is no full service grocery department (http://wiki.openstreetmap.org/wiki/Tag:shop%3Dsupermarket). It seems that this is why Safeway was tagged as 'pharmacy' more than 'supermarket'. "
   ]
  },
  {
   "cell_type": "markdown",
   "metadata": {},
   "source": [
    "#### Walgreens"
   ]
  },
  {
   "cell_type": "raw",
   "metadata": {},
   "source": [
    "SELECT COUNT(DISTINCT(id))\n",
    "FROM nodes_tags \n",
    "WHERE value ='Walgreens';"
   ]
  },
  {
   "cell_type": "raw",
   "metadata": {},
   "source": [
    "sqlite> SELECT COUNT(DISTINCT(id))\n",
    "   ...> FROM nodes_tags\n",
    "   ...> WHERE value ='Walgreens';\n",
    "31"
   ]
  },
  {
   "cell_type": "raw",
   "metadata": {},
   "source": [
    "SELECT nodes_tags.value, COUNT(*) as num \n",
    "FROM nodes_tags JOIN (SELECT DISTINCT(id) FROM nodes_tags WHERE value = 'chemist') chemist\n",
    "ON nodes_tags.id = chemist.id \n",
    "WHERE nodes_tags.key ='name'\n",
    "GROUP BY nodes_tags.value\n",
    "ORDER BY num DESC;"
   ]
  },
  {
   "cell_type": "raw",
   "metadata": {},
   "source": [
    "sqlite> SELECT nodes_tags.value, COUNT(*) as num\n",
    "   ...> FROM nodes_tags JOIN (SELECT DISTINCT(id) FROM nodes_tags WHERE value = 'chemist') chemist\n",
    "   ...> ON nodes_tags.id = chemist.id\n",
    "   ...> WHERE nodes_tags.key ='name'\n",
    "   ...> GROUP BY nodes_tags.value\n",
    "   ...> ORDER BY num DESC;\n",
    "Walgreens|2\n",
    "Blendily|1\n",
    "Kiehl's|1\n",
    "My Favorite Soap|1"
   ]
  },
  {
   "cell_type": "markdown",
   "metadata": {},
   "source": [
    "Walgreens was found to be the most frequent 'pharmacy' (key = 'amenity') with 29 nodes_tags above, but there were actually 31 nodes that were tagged with the name 'Walgreens'. This is because 'Walgreens' was categorized as a 'chemist' (key ='shop') twice. I wonder there was a good reason for this distinction (e.g. no pharmacist in those 2 Walgreens) or it was just a mistake."
   ]
  },
  {
   "cell_type": "markdown",
   "metadata": {},
   "source": [
    "### Top 20 keys for ways_tags"
   ]
  },
  {
   "cell_type": "raw",
   "metadata": {},
   "source": [
    "SELECT key, COUNT(*) as num\n",
    "FROM ways_tags\n",
    "GROUP BY key\n",
    "ORDER BY num DESC\n",
    "LIMIT 20;"
   ]
  },
  {
   "cell_type": "raw",
   "metadata": {},
   "source": [
    "sqlite> SELECT key, COUNT(*) as num\n",
    "   ...> FROM ways_tags\n",
    "   ...> GROUP BY key\n",
    "   ...> ORDER BY num DESC\n",
    "   ...> LIMIT 20;\n",
    "building|621020\n",
    "ele|534058\n",
    "street|432103\n",
    "postcode|432023\n",
    "housenumber|431908\n",
    "city|431869\n",
    "height|404184\n",
    "levels|211923\n",
    "highway|181228\n",
    "name|112702\n",
    "sidewalk|68170\n",
    "zip_left|56927\n",
    "zip_right|56279\n",
    "county|49618\n",
    "bicycle|40087\n",
    "service|38410\n",
    "cfcc|36735\n",
    "name_base|32002\n",
    "maxspeed|31667\n",
    "state|26422"
   ]
  },
  {
   "cell_type": "markdown",
   "metadata": {},
   "source": [
    "interesting keys:\n",
    "* sidewalk\n",
    "* bicycle\n",
    "* maxspeed"
   ]
  },
  {
   "cell_type": "markdown",
   "metadata": {},
   "source": [
    "### sidewalk"
   ]
  },
  {
   "cell_type": "raw",
   "metadata": {},
   "source": [
    "SELECT COUNT(DISTINCT(value))\n",
    "FROM ways_tags\n",
    "WHERE key = 'sidewalk';\n",
    "\n",
    "SELECT value, COUNT(*) as num\n",
    "FROM ways_tags\n",
    "WHERE key = 'sidewalk'\n",
    "GROUP BY value\n",
    "ORDER BY num DESC;"
   ]
  },
  {
   "cell_type": "raw",
   "metadata": {},
   "source": [
    "sqlite> SELECT COUNT(DISTINCT(value))\n",
    "   ...> FROM ways_tags\n",
    "   ...> WHERE key = 'sidewalk';\n",
    "5\n",
    "\n",
    "sqlite> SELECT value, COUNT(*) as num\n",
    "   ...> FROM ways_tags\n",
    "   ...> WHERE key = 'sidewalk'\n",
    "   ...> GROUP BY value\n",
    "   ...> ORDER BY num DESC;\n",
    "both|28905\n",
    "no|22187\n",
    "right|11254\n",
    "left|5806\n",
    "none|18"
   ]
  },
  {
   "cell_type": "markdown",
   "metadata": {},
   "source": []
  },
  {
   "cell_type": "markdown",
   "metadata": {},
   "source": [
    "### bicycle"
   ]
  },
  {
   "cell_type": "raw",
   "metadata": {},
   "source": [
    "SELECT COUNT(DISTINCT(value))\n",
    "FROM ways_tags\n",
    "WHERE key = 'bicycle';\n",
    "\n",
    "SELECT value, COUNT(*) as num\n",
    "FROM ways_tags\n",
    "WHERE key = 'bicycle'\n",
    "GROUP BY value\n",
    "ORDER BY num DESC;"
   ]
  },
  {
   "cell_type": "raw",
   "metadata": {},
   "source": [
    "sqlite> SELECT COUNT(DISTINCT(value))\n",
    "   ...> FROM ways_tags\n",
    "   ...> WHERE key = 'bicycle';\n",
    "23\n",
    "\n",
    "sqlite> SELECT value, COUNT(*) as num\n",
    "   ...> FROM ways_tags\n",
    "   ...> WHERE key = 'bicycle'\n",
    "   ...> GROUP BY value\n",
    "   ...> ORDER BY num DESC;\n",
    "designated|25760\n",
    "yes|7392\n",
    "no|3220\n",
    "caution_area|3112\n",
    "Portland Bureau of Transportation|367\n",
    "dismount|116\n",
    "Metro Bicycle Routes WMS|26\n",
    "destination|15\n",
    "permissive|13\n",
    "RLIS|11\n",
    "http://bikeportland.org/2010/11/04/pbot-streetcar-brings-changes-to-bikeways-in-the-pearl-42217|8\n",
    "Metro 2011 aerial imagery|7\n",
    "preferred|7\n",
    "RLIS;Portland Bureau of Transportation|6\n",
    "avoid|6\n",
    "http://bikeportland.org/2010/04/21/see-the-new-bike-route-through-river-view-cemetery-32306|6\n",
    "shared_lane|5\n",
    "private|4\n",
    "10|2\n",
    "20|1\n",
    "30|1\n",
    "8|1\n",
    "concrete|1"
   ]
  },
  {
   "cell_type": "markdown",
   "metadata": {},
   "source": [
    "It seems there are several different types of keys."
   ]
  },
  {
   "cell_type": "raw",
   "metadata": {},
   "source": [
    "SELECT type, value, COUNT(*) as num\n",
    "FROM ways_tags\n",
    "WHERE key = 'bicycle'\n",
    "GROUP BY type, value\n",
    "ORDER BY num DESC;"
   ]
  },
  {
   "cell_type": "raw",
   "metadata": {},
   "source": [
    "sqlite> SELECT type, value, COUNT(*) as num\n",
    "   ...> FROM ways_tags\n",
    "   ...> WHERE key = 'bicycle'\n",
    "   ...> GROUP BY type, value\n",
    "   ...> ORDER BY num DESC;\n",
    "regular|designated|22789\n",
    "regular|yes|7003\n",
    "regular|no|3149\n",
    "CCGIS|designated|2971\n",
    "RLIS|caution_area|2934\n",
    "oneway|yes|387\n",
    "source|Portland Bureau of Transportation|367\n",
    "CCGIS|caution_area|178\n",
    "regular|dismount|116\n",
    "CCGIS|no|53\n",
    "source|Metro Bicycle Routes WMS|26\n",
    "oneway|no|18\n",
    "regular|destination|15\n",
    "regular|permissive|13\n",
    "source|RLIS|11\n",
    "regular|preferred|7\n",
    "source|Metro 2011 aerial imagery|7\n",
    "source|http://bikeportland.org/2010/11/04/pbot-streetcar-brings-changes-to-bikeways-in-the-pearl-42217|7\n",
    "regular|avoid|6\n",
    "source|RLIS;Portland Bureau of Transportation|6\n",
    "source|http://bikeportland.org/2010/04/21/see-the-new-bike-route-through-river-view-cemetery-32306|6\n",
    "regular|shared_lane|5\n",
    "regular|private|4\n",
    "capacity|10|2\n",
    "aerialway|yes|1\n",
    "capacity|20|1\n",
    "capacity|30|1\n",
    "capacity|8|1\n",
    "ramp|yes|1\n",
    "surface|concrete|1\n",
    "url|http://bikeportland.org/2010/11/04/pbot-streetcar-brings-changes-to-bikeways-in-the-pearl-42217|1"
   ]
  },
  {
   "cell_type": "markdown",
   "metadata": {},
   "source": [
    "What I wanted was the 'regular' type where 'bicycle' is tagged without colons like k=\"bicycle\" in the XML format."
   ]
  },
  {
   "cell_type": "raw",
   "metadata": {},
   "source": [
    "SELECT value, COUNT(*) as num\n",
    "FROM ways_tags\n",
    "WHERE key = 'bicycle' and type = 'regular'\n",
    "GROUP BY value\n",
    "ORDER BY num DESC;"
   ]
  },
  {
   "cell_type": "raw",
   "metadata": {},
   "source": [
    "sqlite> SELECT value, COUNT(*) as num\n",
    "   ...> FROM ways_tags\n",
    "   ...> WHERE key = 'bicycle' and type = 'regular'\n",
    "   ...> GROUP BY value\n",
    "   ...> ORDER BY num DESC;\n",
    "designated|22789\n",
    "yes|7003\n",
    "no|3149\n",
    "dismount|116\n",
    "destination|15\n",
    "permissive|13\n",
    "preferred|7\n",
    "avoid|6\n",
    "shared_lane|5\n",
    "private|4"
   ]
  },
  {
   "cell_type": "raw",
   "metadata": {},
   "source": [
    "SELECT COUNT(*)\n",
    "FROM ways_tags\n",
    "WHERE key = 'bicycle' and type = 'regular';"
   ]
  },
  {
   "cell_type": "raw",
   "metadata": {},
   "source": [
    "sqlite> SELECT COUNT(*)\n",
    "   ...> FROM ways_tags\n",
    "   ...> WHERE key = 'bicycle' and type = 'regular';\n",
    "33107"
   ]
  },
  {
   "cell_type": "code",
   "execution_count": 19,
   "metadata": {
    "collapsed": false
   },
   "outputs": [
    {
     "data": {
      "text/plain": [
       "0.6883438547739149"
      ]
     },
     "execution_count": 19,
     "metadata": {},
     "output_type": "execute_result"
    }
   ],
   "source": [
    "22789/33107."
   ]
  },
  {
   "cell_type": "markdown",
   "metadata": {},
   "source": [
    "The key 'bicycle' for ways_tags shows bicycle restrictions. Some of the values are explained in the website https://wiki.openstreetmap.org/wiki/Bicycle, but not all of them. The most frequent value is 'designated' which means \"a way has been specially designated (typically by a government) for bicycle use\". This seems to show Portland is very bike-friendly city, but I cannot make a rigorous conclusion here. "
   ]
  },
  {
   "cell_type": "markdown",
   "metadata": {},
   "source": [
    "### maxspeed"
   ]
  },
  {
   "cell_type": "raw",
   "metadata": {},
   "source": [
    "SELECT COUNT(DISTINCT(value))\n",
    "FROM ways_tags\n",
    "WHERE key = 'maxspeed';"
   ]
  },
  {
   "cell_type": "raw",
   "metadata": {},
   "source": [
    "sqlite> SELECT COUNT(DISTINCT(value))\n",
    "   ...> FROM ways_tags\n",
    "   ...> WHERE key = 'maxspeed';\n",
    "29"
   ]
  },
  {
   "cell_type": "raw",
   "metadata": {},
   "source": [
    "SELECT type, value, COUNT(*) as num\n",
    "FROM ways_tags\n",
    "WHERE key = 'maxspeed'\n",
    "GROUP BY type, value\n",
    "ORDER BY num DESC;"
   ]
  },
  {
   "cell_type": "raw",
   "metadata": {},
   "source": [
    "sqlite> SELECT type, value, COUNT(*) as num\n",
    "   ...> FROM ways_tags\n",
    "   ...> WHERE key = 'maxspeed'\n",
    "   ...> GROUP BY type, value\n",
    "   ...> ORDER BY num DESC;\n",
    "regular|25 mph|12988\n",
    "regular|35 mph|5215\n",
    "regular|20 mph|2766\n",
    "regular|30 mph|2458\n",
    "regular|40 mph|2398\n",
    "regular|45 mph|1418\n",
    "regular|10 mph|1308\n",
    "regular|55 mph|771\n",
    "regular|50 mph|695\n",
    "source|sign|444\n",
    "regular|5 mph|276\n",
    "regular|25|263\n",
    "regular|15 mph|221\n",
    "regular|60 mph|160\n",
    "source|City of Portland sign inventory|89\n",
    "regular|65 mph|78\n",
    "source|ODOT|77\n",
    "regular|70 mph|18\n",
    "regular|20|8\n",
    "regular|3 mph|4\n",
    "source|road markings|3\n",
    "source|RLIS aerials|2\n",
    "regular|10|1\n",
    "regular|100 mph|1\n",
    "regular|35|1\n",
    "regular|35 mph;40 mph|1\n",
    "regular|40|1\n",
    "regular|5|1\n",
    "source|http://bikeportland.org/2009/10/22/pbot-spokane-bike-boulevard-construction-begins-next-month-24933|1"
   ]
  },
  {
   "cell_type": "markdown",
   "metadata": {},
   "source": [
    "What I wanted was the 'regular' type where 'maxspeed' is tagged without colons like k=\"maxspeed\" in the XML format."
   ]
  },
  {
   "cell_type": "raw",
   "metadata": {},
   "source": [
    "SELECT value, COUNT(*) as num\n",
    "FROM ways_tags\n",
    "WHERE key = 'maxspeed' and type = 'regular'\n",
    "GROUP BY value\n",
    "ORDER BY num DESC;"
   ]
  },
  {
   "cell_type": "raw",
   "metadata": {},
   "source": [
    "sqlite> SELECT value, COUNT(*) as num\n",
    "   ...> FROM ways_tags\n",
    "   ...> WHERE key = 'maxspeed' and type = 'regular'\n",
    "   ...> GROUP BY value\n",
    "   ...> ORDER BY num DESC;\n",
    "25 mph|12988\n",
    "35 mph|5215\n",
    "20 mph|2766\n",
    "30 mph|2458\n",
    "40 mph|2398\n",
    "45 mph|1418\n",
    "10 mph|1308\n",
    "55 mph|771\n",
    "50 mph|695\n",
    "5 mph|276\n",
    "25|263\n",
    "15 mph|221\n",
    "60 mph|160\n",
    "65 mph|78\n",
    "70 mph|18\n",
    "20|8\n",
    "3 mph|4\n",
    "10|1\n",
    "100 mph|1\n",
    "35|1\n",
    "35 mph;40 mph|1\n",
    "40|1\n",
    "5|1"
   ]
  },
  {
   "cell_type": "markdown",
   "metadata": {},
   "source": [
    "Some maximum speeds are missing mph. We need to clean this."
   ]
  },
  {
   "cell_type": "markdown",
   "metadata": {},
   "source": [
    "## Other ideas about the dataset"
   ]
  },
  {
   "cell_type": "markdown",
   "metadata": {},
   "source": [
    "Improvments should be made in \n",
    "* brand names like 'Starbucks coffee', 'Peet's coffee', and '7-eleven' (7-Eleven, 711, 7 Eleven,7-11, 7/11\n",
    "* more clear categorization"
   ]
  }
 ],
 "metadata": {
  "anaconda-cloud": {},
  "kernelspec": {
   "display_name": "Python [conda env:DAND]",
   "language": "python",
   "name": "conda-env-DAND-py"
  },
  "language_info": {
   "codemirror_mode": {
    "name": "ipython",
    "version": 2
   },
   "file_extension": ".py",
   "mimetype": "text/x-python",
   "name": "python",
   "nbconvert_exporter": "python",
   "pygments_lexer": "ipython2",
   "version": "2.7.12"
  }
 },
 "nbformat": 4,
 "nbformat_minor": 2
}
