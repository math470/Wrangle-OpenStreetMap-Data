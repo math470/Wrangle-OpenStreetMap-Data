{
 "cells": [
  {
   "cell_type": "markdown",
   "metadata": {},
   "source": [
    "# Project3:  Wrangle OpenStreetMap Data\n",
    "## Map area: Portland, Oregon"
   ]
  },
  {
   "cell_type": "markdown",
   "metadata": {},
   "source": [
    "* Area map: https://www.openstreetmap.org/relation/186579#map=10/45.5424/-122.6541\n",
    "* Data: OSM XML from https://mapzen.com/data/metro-extracts/metro/portland_oregon/ "
   ]
  },
  {
   "cell_type": "markdown",
   "metadata": {},
   "source": [
    "## Data wrangling\n",
    "### Auditing street types\n",
    "Overall, street names already look pretty clean. The original case study script cought some street types which were not included in the original list for expected street types, but I found many of them are valid street types. There were also many street names that end with a direction (e.g., Southwest Willamette Way East). I added more valid street types and \"North\",\"South\",\"East\", and \"West\" to the list of expected street types as followings."
   ]
  },
  {
   "cell_type": "code",
   "execution_count": null,
   "metadata": {
    "collapsed": true
   },
   "outputs": [],
   "source": [
    "expected = [\"Street\", \"Avenue\", \"Boulevard\", \"Drive\", \"Court\", \"Place\", \n",
    "            \"Square\",\"Lane\", \"Road\", \"Trail\", \"Parkway\", \"Commons\", \"Path\",\n",
    "            \"Run\",\"Woods\",\"Heights\", \"Broadway\", \"Circle\", \"Highway\", \n",
    "            \"Loop\", \"Terrace\", \"Way\",\"Circus\",\"Byway\",\"Chantilly\", \n",
    "            \"Churchill\",\"Alley\",\"End\",\"Curve\", \n",
    "            \"Crest\",\"Point\", \"View\",\"Summit\",\"Downs\",\"Preakness\",\n",
    "            \"North\",\"South\",\"East\",\"West\"] "
   ]
  },
  {
   "cell_type": "markdown",
   "metadata": {},
   "source": [
    "There were still upexpected street types left to audit, but some of them were just unfamiliar street types which are likely to be valid. Other types left are as followings:\n",
    "* Highway followed by a highway number: e.g., Southeast Highway 211. There are valid street names for an address. \n",
    "* Missing street types: e.g., 'Southwest 158th'. These are problematic street name since it is missing a street type. It was not feasible to update these one by one by internet map search. \n",
    "* Street names entered with errors: For example, there were full adresses or street names followed by an apartment number. I did not change these.\n",
    "* Abbreviated street types: e.g., '4th Ave' or 'NE Glisan St.'. I updated these street names using the following mapping in my final cleaning step."
   ]
  },
  {
   "cell_type": "code",
   "execution_count": null,
   "metadata": {
    "collapsed": true
   },
   "outputs": [],
   "source": [
    "mapping_street = { \"St\": \"Street\",\"St.\": \"Street\",\"Rd\": \"Road\",\n",
    "                  \"Rd.\": \"Road\",\"Ave\": \"Avenue\"}"
   ]
  },
  {
   "cell_type": "markdown",
   "metadata": {
    "collapsed": true
   },
   "source": [
    "### Auditing \"k\" values for node tags\n",
    "I audited \"k\" values for node tags using the following function. "
   ]
  },
  {
   "cell_type": "code",
   "execution_count": null,
   "metadata": {
    "collapsed": true
   },
   "outputs": [],
   "source": [
    "def audit_node_tag_k(filename):\n",
    "    kvalues = set()\n",
    "    for _, element in ET.iterparse(filename):\n",
    "        if element.tag == 'node':\n",
    "            for child in element.findall('tag'):  \n",
    "                kvalues.add(child.attrib[\"k\"])\n",
    "    return kvalues"
   ]
  },
  {
   "cell_type": "markdown",
   "metadata": {},
   "source": [
    "Some suspicious values I found are listed below:\n",
    "* gnis:County_num vs. gnis:county_id \n",
    "* gnis:County vs. gnis:county_name\n",
    "* 'Phone' vs. 'phone' (I will also check other values including 'phone')\n",
    "\n",
    "Thus, I checked both \"k\" and \"v\" values of node tags with the suspicious \"k\" values using the following function."
   ]
  },
  {
   "cell_type": "code",
   "execution_count": null,
   "metadata": {
    "collapsed": true
   },
   "outputs": [],
   "source": [
    "Suspicious = [\"gnis:County_num\",\"gnis:county_id\", \"gnis:County\", \n",
    "              \"gnis:county_name\",'Phone','phone','contact:phone',\n",
    "              'phone:alternate','phone:tollfree']\n",
    "\n",
    "def audit_node_tag_k_suspicious(filename):\n",
    "    kv_values = {}\n",
    "    for _, element in ET.iterparse(filename):\n",
    "        if element.tag == 'node':\n",
    "            for child in element.findall('tag'):  \n",
    "                if child.attrib[\"k\"] in Suspicious: \n",
    "                    if child.attrib[\"k\"] not in kv_values:\n",
    "                        kv_values[child.attrib[\"k\"]] = [child.attrib[\"v\"]]\n",
    "                    else:\n",
    "                        if child.attrib[\"v\"] not in  \n",
    "                        kv_values[child.attrib[\"k\"]]:\n",
    "                            kv_values[child.attrib[\"k\"]].append\n",
    "                            (child.attrib[\"v\"])\n",
    "    return kv_values"
   ]
  },
  {
   "cell_type": "markdown",
   "metadata": {},
   "source": [
    "Here is some part of the output:"
   ]
  },
  {
   "cell_type": "code",
   "execution_count": null,
   "metadata": {
    "collapsed": true
   },
   "outputs": [],
   "source": [
    "{'Phone': ['503-238-6330'],\n",
    " 'contact:phone': ['+1-360-882-4082'],\n",
    " 'gnis:County': ['Clackamas',...omitted...,'Yamhill'],\n",
    " 'gnis:County_num': ['005', '009', '011', '051', '067', '047', '071'],\n",
    " 'gnis:county_id': ['011', '059', '009', '067', '071', '051', '047'],\n",
    " 'gnis:county_name': ['Marion',...omitted...,'Skamania'],\n",
    " 'phone': ['+1-503-644-5748',\n",
    "           '+1-503-595-1205',\n",
    "           '+1-503-245-3183',\n",
    "           '+1 (503) 282-9603',\n",
    "           ...omitted..."
   ]
  },
  {
   "cell_type": "markdown",
   "metadata": {},
   "source": [
    "* As I expected \"gnis:County_num\" and \"gnis:county_id\" seem to be used interchangeably, so do \"gnis:County and gnis:county_name\". The following website shows both \"gnis:County_num\" and \"gnis:county_id\" represent County FIPS code: \n",
    "http://wiki.openstreetmap.org/wiki/USGS_GNIS. The wiki page also says \"County\" in \"gnis:County\" is a county name.\n",
    "\n",
    "* \"Phone\" and \"phone\" were used interchangeably. I will replace \"Phone\" with \"phone\".\n",
    "\n",
    "* Most phone numbers are in this format '+1-###-###-####', but some numbers are not. For example, there are '503-238-6330','(360) 258-1713', '+01-503-639-1712' or '5032535327'. I will make every phone number to have this format '+1-###-###-####'.\n",
    "\n",
    "Before I clean these, I audited way tags as well in the same way I did for node tags. "
   ]
  },
  {
   "cell_type": "markdown",
   "metadata": {},
   "source": [
    "### Auditing \"k\" values for way tags\n",
    "I found several suspicious \"k\" values for way tags and checked their both \"k\" and \"v\" values as I did for node tags. Some of my suspicions were not confirmed. Here I only listed confirmed ones.\n",
    "\n",
    "* 'servic' vs. 'service': It looks 'servic' was a typo. I will replace 'servic' with 'service'.\n",
    "* 'dog' vs. 'dogs': They seem to be used interchangeably. I will replace 'dogs' with 'dog'.\n",
    "* There are some phone numbers with formats different from '+1-###-###-####'. I will make every phone number to have this format '+1-###-###-####', but the special case like '503-683-5359 Fax: 503-683-4913' will not be changed."
   ]
  },
  {
   "cell_type": "markdown",
   "metadata": {},
   "source": [
    "### Updating problematic \"k\" values\n",
    "I updated problematic \"k\" values using the following mapping. "
   ]
  },
  {
   "cell_type": "code",
   "execution_count": null,
   "metadata": {
    "collapsed": true
   },
   "outputs": [],
   "source": [
    "mapping = {\"gnis:County_num\":\"gnis:county_id\", \n",
    "           \"gnis:County\":\"gnis:county_name\",\n",
    "           \"Phone\":\"phone\",\"servic\":\"service\", \n",
    "           \"dogs\": \"dog\"}"
   ]
  },
  {
   "cell_type": "markdown",
   "metadata": {},
   "source": [
    "### Updating phone numbers\n",
    "Phone numbers were changed into '+1-###-###-####' format if they were not in the format using the following regular expressions and function."
   ]
  },
  {
   "cell_type": "code",
   "execution_count": null,
   "metadata": {
    "collapsed": true
   },
   "outputs": [],
   "source": [
    "good_phone_format = re.compile(r'^\\+1\\-(\\d{3})-(\\d{3})-(\\d{4})$')\n",
    "phone_format = re.compile(r'(\\d{3})\\D*(\\d{3})\\D*(\\d{4})') \n",
    "\n",
    "def update_phone(phone_number, good_phone_format, phone_format):\n",
    "    if not good_phone_format.search(phone_number):\n",
    "        if 10 <= sum(char.isdigit() for char in phone_number) <= 12: \n",
    "            #only proper digits\n",
    "            searched = phone_format.search(phone_number)\n",
    "            if searched is not None: # If searched is None, it makes an error\n",
    "                number_parsed = searched.groups()  \n",
    "                phone_number = '+1-' + number_parsed[0]+'-'+number_parsed[1]\n",
    "                +'-'+ number_parsed[2]           \n",
    "    return phone_number"
   ]
  },
  {
   "cell_type": "markdown",
   "metadata": {},
   "source": [
    "### Converting XML to CSV and creating database\n",
    "The cleaned data was converted into 5 csv files. The Database OpenStreetMap_Portland.db was created and its 5 tables were created using the provided schema one by one using Python.\n",
    "\n",
    "Note: The uploaded Python code is what I used up to here. From here I used my Command Prompt to run SQL."
   ]
  },
  {
   "cell_type": "markdown",
   "metadata": {},
   "source": [
    "## SQL Analysis\n",
    "### Overview of the dataset"
   ]
  },
  {
   "cell_type": "code",
   "execution_count": null,
   "metadata": {
    "collapsed": true
   },
   "outputs": [],
   "source": [
    "sqlite> .dbinfo\n",
    "database page size:  1024\n",
    "write format:        1\n",
    "read format:         1\n",
    "reserved bytes:      0\n",
    "file change counter: 15\n",
    "database page count: 928804\n",
    "freelist page count: 0\n",
    "...omitted..."
   ]
  },
  {
   "cell_type": "markdown",
   "metadata": {},
   "source": [
    "The size of the database is 928804 KB (929 MB). My OSM XML file was 1.54 GB."
   ]
  },
  {
   "cell_type": "code",
   "execution_count": null,
   "metadata": {
    "collapsed": true
   },
   "outputs": [],
   "source": [
    "sqlite> SELECT Count(id) FROM nodes;\n",
    "6577944\n",
    "sqlite> SELECT Count(id) FROM ways;\n",
    "850234"
   ]
  },
  {
   "cell_type": "markdown",
   "metadata": {},
   "source": [
    "There are 6,577,944 nodes and 850,234 ways in total."
   ]
  },
  {
   "cell_type": "code",
   "execution_count": null,
   "metadata": {
    "collapsed": true
   },
   "outputs": [],
   "source": [
    "sqlite> SELECT COUNT(DISTINCT(uid))\n",
    "   ...> FROM (SELECT uid FROM nodes UNION ALL SELECT uid FROM ways);\n",
    "1233"
   ]
  },
  {
   "cell_type": "code",
   "execution_count": null,
   "metadata": {
    "collapsed": true
   },
   "outputs": [],
   "source": [
    "sqlite> SELECT user, COUNT(*) as num\n",
    "   ...> FROM (SELECT user FROM nodes UNION ALL SELECT user FROM ways)\n",
    "   ...> GROUP BY user\n",
    "   ...> ORDER BY num DESC\n",
    "   ...> LIMIT 5;\n",
    "Peter Dobratz_pdxbuildings|1960041\n",
    "lyzidiamond_imports|1904820\n",
    "Mele Sax-Barnett|582424\n",
    "baradam|540940\n",
    "Darrell_pdxbuildings|433857"
   ]
  },
  {
   "cell_type": "markdown",
   "metadata": {},
   "source": [
    "The number of unique users is 1,233 and the top 5 users are listed above."
   ]
  },
  {
   "cell_type": "markdown",
   "metadata": {},
   "source": [
    "### Addidtional  Statistics\n",
    "#### Top  keys for nodes_tags and ways_tags"
   ]
  },
  {
   "cell_type": "code",
   "execution_count": null,
   "metadata": {
    "collapsed": true
   },
   "outputs": [],
   "source": [
    "sqlite> SELECT key, COUNT(*) as num\n",
    "   ...> FROM nodes_tags\n",
    "   ...> GROUP BY key\n",
    "   ...> ORDER BY num DESC;"
   ]
  },
  {
   "cell_type": "code",
   "execution_count": null,
   "metadata": {
    "collapsed": true
   },
   "outputs": [],
   "source": [
    "highway|34959\n",
    "street|30413\n",
    "housenumber|30389\n",
    "city|30133\n",
    "postcode|30101\n",
    "name|11801\n",
    "amenity|10462\n",
    "...omitted..."
   ]
  },
  {
   "cell_type": "code",
   "execution_count": null,
   "metadata": {
    "collapsed": true
   },
   "outputs": [],
   "source": [
    "sqlite> SELECT key, COUNT(*) as num\n",
    "   ...> FROM ways_tags\n",
    "   ...> GROUP BY key\n",
    "   ...> ORDER BY num DESC\n",
    "   ...> LIMIT 15;"
   ]
  },
  {
   "cell_type": "code",
   "execution_count": null,
   "metadata": {
    "collapsed": true
   },
   "outputs": [],
   "source": [
    "building|621020\n",
    "ele|534058\n",
    "street|432103\n",
    "postcode|432023\n",
    "housenumber|431908\n",
    "city|431869\n",
    "height|404184\n",
    "levels|211923\n",
    "highway|181228\n",
    "name|112702\n",
    "sidewalk|68170\n",
    "zip_left|56927\n",
    "zip_right|56279\n",
    "county|49618\n",
    "bicycle|40087"
   ]
  },
  {
   "cell_type": "markdown",
   "metadata": {},
   "source": [
    "The top keys for nodes_tags and ways_tags separately were queried and some of them are listed above.\n",
    "\n",
    "A lot of keys were inspected, but here I will only report some of the keys and their some values found to be most interesting in the following order:\n",
    "* amenity \n",
    "* amenity: bicycle_parking \n",
    "* bicycle_parking \n",
    "* bicycle \n",
    "* amenity: recycling \n",
    "\n",
    "Note: Only the key 'bicycle' is from ways_tags. All others are from nodes tags. "
   ]
  },
  {
   "cell_type": "markdown",
   "metadata": {},
   "source": [
    "#### amenity"
   ]
  },
  {
   "cell_type": "code",
   "execution_count": null,
   "metadata": {
    "collapsed": true
   },
   "outputs": [],
   "source": [
    "sqlite> SELECT value, COUNT(*) as num\n",
    "   ...> FROM nodes_tags\n",
    "   ...> WHERE key = 'amenity'\n",
    "   ...> GROUP BY value\n",
    "   ...> ORDER BY num DESC\n",
    "   ...> LIMIT 10;"
   ]
  },
  {
   "cell_type": "code",
   "execution_count": null,
   "metadata": {
    "collapsed": true
   },
   "outputs": [],
   "source": [
    "bicycle_parking|2666\n",
    "bench|868\n",
    "waste_basket|805\n",
    "place_of_worship|781\n",
    "restaurant|666\n",
    "fast_food|560\n",
    "post_box|476\n",
    "cafe|386\n",
    "drinking_water|231\n",
    "recycling|215"
   ]
  },
  {
   "cell_type": "markdown",
   "metadata": {},
   "source": [
    "There were 98 kinds of amenities and the top 10 amenities are listed above. I further investigated some of the top amenities."
   ]
  },
  {
   "cell_type": "markdown",
   "metadata": {},
   "source": [
    "#### amenity:  bicycle_parking\n",
    "The most frequent amenity value is 'bicycle_parking' and this is not surprising because Portland is one of the most bike-friendly cities in U.S. The following query shows 50 nodes were also tagged as a bicycle rental amenity."
   ]
  },
  {
   "cell_type": "code",
   "execution_count": null,
   "metadata": {
    "collapsed": true
   },
   "outputs": [],
   "source": [
    "sqlite> SELECT COUNT(*)\n",
    "   ...> FROM nodes_tags\n",
    "   ...> WHERE key = 'amenity' and value = 'bicycle_rental';\n",
    "50"
   ]
  },
  {
   "cell_type": "markdown",
   "metadata": {},
   "source": [
    "#### bicycle_parking "
   ]
  },
  {
   "cell_type": "markdown",
   "metadata": {},
   "source": [
    "Actually, 'bicycle_parking' was also used as a key for node_tags and it was the 20th most frequent key. I found values for the key 'bicycle_parking' show types of bicycle parking from http://wiki.openstreetmap.org/wiki/Key:bicycle_parking. The below query shows that there are 7 types of bicycle parking, stands, bollard, rack, wave, wall_loops, building, and anchors in this map area. The majority of bicycle parkings have the stands type (94.8%). There was one incorrect value 'yes'."
   ]
  },
  {
   "cell_type": "code",
   "execution_count": null,
   "metadata": {
    "collapsed": true
   },
   "outputs": [],
   "source": [
    "sqlite> SELECT value, COUNT(*) as num\n",
    "   ...> FROM nodes_tags\n",
    "   ...> WHERE key = 'bicycle_parking'\n",
    "   ...> GROUP BY value\n",
    "   ...> ORDER BY num DESC;"
   ]
  },
  {
   "cell_type": "code",
   "execution_count": null,
   "metadata": {
    "collapsed": true
   },
   "outputs": [],
   "source": [
    "stands|2339\n",
    "bollard|70\n",
    "rack|27\n",
    "wave|17\n",
    "wall_loops|7\n",
    "building|4\n",
    "anchors|2\n",
    "yes|1"
   ]
  },
  {
   "cell_type": "markdown",
   "metadata": {},
   "source": [
    "#### bicycle (ways_tags)"
   ]
  },
  {
   "cell_type": "code",
   "execution_count": null,
   "metadata": {
    "collapsed": true
   },
   "outputs": [],
   "source": [
    "sqlite> SELECT value, COUNT(*) as num\n",
    "   ...> FROM ways_tags\n",
    "   ...> WHERE key = 'bicycle' and type = 'regular'\n",
    "   ...> GROUP BY value\n",
    "   ...> ORDER BY num DESC;"
   ]
  },
  {
   "cell_type": "code",
   "execution_count": null,
   "metadata": {
    "collapsed": true
   },
   "outputs": [],
   "source": [
    "designated|22789\n",
    "yes|7003\n",
    "no|3149\n",
    "dismount|116\n",
    "destination|15\n",
    "permissive|13\n",
    "preferred|7\n",
    "avoid|6\n",
    "shared_lane|5\n",
    "private|4"
   ]
  },
  {
   "cell_type": "markdown",
   "metadata": {},
   "source": [
    "The key 'bicycle' for ways_tags shows bicycle restrictions. Some of the values are explained on the website https://wiki.openstreetmap.org/wiki/Bicycle, but not all of them. The most frequent value is 'designated' (68.8%) which means  almost 70% of ways are specially designated for bicycle use. This seems to show Portland is a very bike-friendly city, but I cannot make a rigorous conclusion without comparing to other cities. "
   ]
  },
  {
   "cell_type": "markdown",
   "metadata": {},
   "source": [
    "#### amenity: recycling\n",
    "I was glad to find 'recycling' is the 10th frequent amenity with 215 nodes_tags in Portland because Portland is known for its eco-friendliness. The original XML looks like the following where 'recycing' is the value for the key 'amenity'. "
   ]
  },
  {
   "cell_type": "code",
   "execution_count": null,
   "metadata": {
    "collapsed": true
   },
   "outputs": [],
   "source": [
    "<tag k=\"amenity\" v=\"recycling\" />\n",
    "<tag k=\"recycling:cans\" v=\"yes\" />\n",
    "<tag k=\"recycling_type\" v=\"container\" />\n",
    "<tag k=\"recycling:plastic_bottles\" v=\"yes\" />"
   ]
  },
  {
   "cell_type": "code",
   "execution_count": null,
   "metadata": {
    "collapsed": true
   },
   "outputs": [],
   "source": [
    "sqlite> SELECT nodes_tags.key, count(*) as num\n",
    "   ...> FROM nodes_tags JOIN (SELECT DISTINCT(id) FROM nodes_tags \n",
    "   ...> WHERE value = 'recycling') recycle\n",
    "   ...> ON nodes_tags.id = recycle.id\n",
    "   ...> WHERE nodes_tags.type = 'recycling' and nodes_tags.value = 'yes'\n",
    "   ...> GROUP BY nodes_tags.key\n",
    "   ...> ORDER BY num DESC;"
   ]
  },
  {
   "cell_type": "code",
   "execution_count": null,
   "metadata": {
    "collapsed": true
   },
   "outputs": [],
   "source": [
    "plastic_bottles|158\n",
    "cans|145\n",
    "paper|111\n",
    "glass_bottles|88\n",
    "clothes|25\n",
    "glass|23\n",
    "shoes|5\n",
    "plastic|2\n",
    "aluminium|1\n",
    "books|1\n",
    "cardboard|1\n",
    "cooking_oil|1\n",
    "eyeglasses|1\n",
    "paper_bags|1\n",
    "plastic_packaging|1\n",
    "scrap_metal|1"
   ]
  },
  {
   "cell_type": "markdown",
   "metadata": {},
   "source": [
    "The above query showed possible types of recycling each with the number of nodes. I did not know I can even recycle eyeglasses. With more queries, I found  eyeglasses can be recycled at Lions Clubs, an international organization. "
   ]
  },
  {
   "cell_type": "markdown",
   "metadata": {},
   "source": [
    "### Other ideas about the datasets"
   ]
  },
  {
   "cell_type": "markdown",
   "metadata": {},
   "source": [
    "While I was trying many keys and their values, I found the following key:value's show where the datsets need major improvements. \n",
    "* amenity: cafe \n",
    "* shop: convience "
   ]
  },
  {
   "cell_type": "markdown",
   "metadata": {},
   "source": [
    "#### amenity:  cafe"
   ]
  },
  {
   "cell_type": "code",
   "execution_count": null,
   "metadata": {
    "collapsed": true
   },
   "outputs": [],
   "source": [
    "sqlite> SELECT nodes_tags.value, COUNT(*) as num\n",
    "   ...> FROM nodes_tags JOIN (SELECT DISTINCT(id) FROM nodes_tags \n",
    "   ...> WHERE value = 'cafe') cafe\n",
    "   ...> ON nodes_tags.id = cafe.id\n",
    "   ...> WHERE nodes_tags.key ='name'\n",
    "   ...> GROUP BY nodes_tags.value\n",
    "   ...> ORDER BY num DESC;"
   ]
  },
  {
   "cell_type": "code",
   "execution_count": null,
   "metadata": {
    "collapsed": true
   },
   "outputs": [],
   "source": [
    "Starbucks|129\n",
    "Peet's|7\n",
    "Black Rock|5\n",
    "Jamba Juice|5\n",
    "Peet's Coffee & Tea|5\n",
    "Dutch Bros.|4\n",
    "Peet's Coffee|3\n",
    "Brewed Awakenings|2\n",
    "Canteen|2\n",
    "Dutch Bros. Coffee|2\n",
    "Portland Roasting Coffee|2\n",
    "Starbucks Coffee|2\n",
    "Stumptown|2\n",
    "...omitted..."
   ]
  },
  {
   "cell_type": "markdown",
   "metadata": {},
   "source": [
    "I found 'cafe' is the 8th most frequent amenity value (386 nodes) in Portland. Starbucks (value = 'starbucks' or 'Starbucks Coffee') is the most frequent cafe (33.9% of cafe nodes). The second most frequent cafe was Peet's (value = 'Peet's', 'Peet's Coffee & Tea', or 'Peet's Coffee'). Here I noticed several cafe names are used to represent the same cafe. A similar problem was found in convenience store names. "
   ]
  },
  {
   "cell_type": "markdown",
   "metadata": {},
   "source": [
    "#### shop: convenience"
   ]
  },
  {
   "cell_type": "code",
   "execution_count": null,
   "metadata": {
    "collapsed": true
   },
   "outputs": [],
   "source": [
    "sqlite> SELECT nodes_tags.value, COUNT(*) as num\n",
    "   ...> FROM nodes_tags JOIN (SELECT DISTINCT(id) FROM nodes_tags \n",
    "   ...> WHERE value = 'convenience') convenience\n",
    "   ...> ON nodes_tags.id = convenience.id\n",
    "   ...> WHERE nodes_tags.key ='name'\n",
    "   ...> GROUP BY nodes_tags.value\n",
    "   ...> ORDER BY num DESC\n",
    "   ...> LIMIT 12;"
   ]
  },
  {
   "cell_type": "code",
   "execution_count": null,
   "metadata": {
    "collapsed": true
   },
   "outputs": [],
   "source": [
    "7-Eleven|24\n",
    "Plaid Pantry|21\n",
    "Food Mart|8\n",
    "Your Northwest Travel Mart|4\n",
    "711|3\n",
    "The Market|2\n",
    "50th Market|1\n",
    "52nd Avenue Market|1\n",
    "7 Eleven|1\n",
    "7 Market|1\n",
    "7-11|1\n",
    "7/11|1"
   ]
  },
  {
   "cell_type": "markdown",
   "metadata": {},
   "source": [
    "The key 'shop' was the 25th most frequent key for nodes_tags and its most frequent value is 'convenience', which represents convenience stores. The above query shows the top 12 convenience stores in Portland, but 5 of them, '7-Eleven', '711', '7 Eleven', '7-11', and '7/11', seem to represent the same store."
   ]
  },
  {
   "cell_type": "markdown",
   "metadata": {},
   "source": [
    "These chain store or company names like Starbucks or 7-Eleven seriously need to be cleaned up by standardizing their names. We cannot get query outputs we want using the current datasets. For example, the above output is actually showing 8 store names although 12 names were queried. One way to clean up these names is mapping. For example, mapping = {'711':'7-Eleven', '7 Eleven':'7-Eleven',  '7-11':'7-Eleven', '7/11':'7-Eleven'} can be used as I did for street names. Standardizing names will also make a thorough search for these names possible in this database. However, there are some anticipated problems. First of all, this will require extensive auditing since there are so many of those chain names in various places in the database. Moreover, there might be some similar but different names we do not know how to deal with. Standardizing these names for all areas in OpenStreetMap would be fantastic, but enormous efforts would be required (e.g., making a list of valid store names to guide users). "
   ]
  },
  {
   "cell_type": "markdown",
   "metadata": {},
   "source": [
    "## Conclusion"
   ]
  },
  {
   "cell_type": "markdown",
   "metadata": {},
   "source": [
    "The OpenStreetMap data for Portland area was huge, but cleaner than I expected. There were only a few abbreviated street types to update and no problematic characters. Non-standardized phone nummbers and store names were major issues I found, but the phone numebers were easily fixed. The dataset gave a lot of useful information regarding recycling and bicycling. It also met my expectations that it will show environment and bicycle friendliness of Portland. "
   ]
  }
 ],
 "metadata": {
  "anaconda-cloud": {},
  "kernelspec": {
   "display_name": "Python [conda env:DAND]",
   "language": "python",
   "name": "conda-env-DAND-py"
  },
  "language_info": {
   "codemirror_mode": {
    "name": "ipython",
    "version": 2
   },
   "file_extension": ".py",
   "mimetype": "text/x-python",
   "name": "python",
   "nbconvert_exporter": "python",
   "pygments_lexer": "ipython2",
   "version": "2.7.12"
  }
 },
 "nbformat": 4,
 "nbformat_minor": 2
}
